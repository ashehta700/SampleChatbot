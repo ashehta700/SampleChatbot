{
 "cells": [
  {
   "cell_type": "markdown",
   "metadata": {
    "id": "YyOWMS4McAF1"
   },
   "source": [
    "# Import Liberaries "
   ]
  },
  {
   "cell_type": "code",
   "execution_count": 157,
   "metadata": {
    "id": "Q7aykQWj7_af"
   },
   "outputs": [],
   "source": [
    "import json \n",
    "import re \n",
    "from sklearn.preprocessing import LabelEncoder\n",
    "import numpy as np \n",
    "import tensorflow as tf\n",
    "from tensorflow.keras.utils import to_categorical\n",
    "from tensorflow.keras.preprocessing.text import Tokenizer\n",
    "from tensorflow.keras.preprocessing.sequence import pad_sequences"
   ]
  },
  {
   "cell_type": "markdown",
   "metadata": {
    "id": "NifGVcvTcHmG"
   },
   "source": [
    "Read Data"
   ]
  },
  {
   "cell_type": "code",
   "execution_count": 158,
   "metadata": {
    "id": "Cp_jWjBpcHBw"
   },
   "outputs": [],
   "source": [
    "with open('data.json') as file:\n",
    "    data=json.load(file)"
   ]
  },
  {
   "cell_type": "code",
   "execution_count": 159,
   "metadata": {
    "colab": {
     "base_uri": "https://localhost:8080/"
    },
    "id": "bOLkBHgtcX6o",
    "outputId": "1765bb9f-e50b-40bb-b389-ccdaea501711"
   },
   "outputs": [
    {
     "data": {
      "text/plain": [
       "{'data': [{'label': 'greeting',\n",
       "   'patterns': ['Hi', 'Hey', 'Is anyone there?', 'Hello', 'Hay'],\n",
       "   'responses': ['Hello', 'Hi', 'Hi there', 'Hey']},\n",
       "  {'label': 'about',\n",
       "   'patterns': ['Who are you?', 'What are you?', 'Who you are?'],\n",
       "   'responses': [\"I'm Zain, your bot assistant\",\n",
       "    \"I'm Zain , an Artificial Intelligent bot\",\n",
       "    \"I'm Zain , an Amit Artificial Intelligent bot\"]},\n",
       "  {'label': 'name',\n",
       "   'patterns': ['what is your name?',\n",
       "    'what should I call you?',\n",
       "    'whats your name?'],\n",
       "   'responses': ['You can call me Zain.',\n",
       "    \"I'm Zain!\",\n",
       "    'Just call me as Zain']},\n",
       "  {'label': 'help',\n",
       "   'patterns': ['Could you help me?',\n",
       "    'give me a hand please.',\n",
       "    'Can you help?',\n",
       "    'What can you do for me?',\n",
       "    'I need a support.',\n",
       "    'I need a help',\n",
       "    'support me please'],\n",
       "   'responses': ['Tell me how can assist you',\n",
       "    'Tell me your problem to assist you',\n",
       "    'Yes Sure, How can I support you']},\n",
       "  {'label': 'sad',\n",
       "   'patterns': [\"I'm sad\",\n",
       "    \"I'm so sad\",\n",
       "    'I feel bad',\n",
       "    'I am alone',\n",
       "    'I have a lot of problems'],\n",
       "   'responses': ['It is better for you to pray',\n",
       "    'Get close to Allah',\n",
       "    'You can watch a movie',\n",
       "    'Go out with friends']},\n",
       "  {'label': 'positive_sen',\n",
       "   'patterns': ['I am depressed',\n",
       "    'I need encouragement',\n",
       "    \"I'm so frustrated\",\n",
       "    \"I'm so frustrated with myself because I lost confidence\"],\n",
       "   'responses': ['I think you are great!',\n",
       "    'You are a genius!',\n",
       "    'You are awesome']},\n",
       "  {'label': 'thanks',\n",
       "   'patterns': ['Thanks',\n",
       "    'Thank you',\n",
       "    \"That's helpful\",\n",
       "    'Thanks for the help'],\n",
       "   'responses': ['Happy to help!',\n",
       "    'Any time!',\n",
       "    'My pleasure',\n",
       "    \"You're most welcome!\"]},\n",
       "  {'label': 'goodbye',\n",
       "   'patterns': ['Bye', 'See you later', 'Goodbye'],\n",
       "   'responses': ['See you later', 'Have a nice day', 'Bye! Come back again']}]}"
      ]
     },
     "execution_count": 159,
     "metadata": {},
     "output_type": "execute_result"
    }
   ],
   "source": [
    "data"
   ]
  },
  {
   "cell_type": "markdown",
   "metadata": {
    "id": "XjCHjq6vcdb_"
   },
   "source": [
    "Create training example , label and response "
   ]
  },
  {
   "cell_type": "code",
   "execution_count": 160,
   "metadata": {
    "id": "H6OaYr4ccYp2"
   },
   "outputs": [],
   "source": [
    "training_example=[]\n",
    "training_labels=[]\n",
    "response=[]\n",
    "\n",
    "for example in data['data']:\n",
    "    for pattern in example['patterns']:\n",
    "        training_example.append(pattern)\n",
    "        training_labels.append(example['label'])\n",
    "    response.append(example['responses'])\n"
   ]
  },
  {
   "cell_type": "code",
   "execution_count": 161,
   "metadata": {
    "colab": {
     "base_uri": "https://localhost:8080/"
    },
    "id": "JTpUxsAAd6HG",
    "outputId": "6cdce4d5-1742-4fff-da1b-901fc3286f91"
   },
   "outputs": [
    {
     "name": "stdout",
     "output_type": "stream",
     "text": [
      "training example \n",
      "['Hi', 'Hey', 'Is anyone there?', 'Hello', 'Hay', 'Who are you?', 'What are you?', 'Who you are?', 'what is your name?', 'what should I call you?', 'whats your name?', 'Could you help me?', 'give me a hand please.', 'Can you help?', 'What can you do for me?', 'I need a support.', 'I need a help', 'support me please', \"I'm sad\", \"I'm so sad\", 'I feel bad', 'I am alone', 'I have a lot of problems', 'I am depressed', 'I need encouragement', \"I'm so frustrated\", \"I'm so frustrated with myself because I lost confidence\", 'Thanks', 'Thank you', \"That's helpful\", 'Thanks for the help', 'Bye', 'See you later', 'Goodbye']\n"
     ]
    }
   ],
   "source": [
    "print(\"training example \")\n",
    "print(training_example)"
   ]
  },
  {
   "cell_type": "code",
   "execution_count": 162,
   "metadata": {
    "colab": {
     "base_uri": "https://localhost:8080/"
    },
    "id": "KCyryJznelj7",
    "outputId": "55d95a5d-2174-41bb-d7df-2c352810e44d"
   },
   "outputs": [
    {
     "name": "stdout",
     "output_type": "stream",
     "text": [
      "training label \n",
      "['greeting', 'greeting', 'greeting', 'greeting', 'greeting', 'about', 'about', 'about', 'name', 'name', 'name', 'help', 'help', 'help', 'help', 'help', 'help', 'help', 'sad', 'sad', 'sad', 'sad', 'sad', 'positive_sen', 'positive_sen', 'positive_sen', 'positive_sen', 'thanks', 'thanks', 'thanks', 'thanks', 'goodbye', 'goodbye', 'goodbye']\n"
     ]
    }
   ],
   "source": [
    "print(\"training label \")\n",
    "print(training_labels)"
   ]
  },
  {
   "cell_type": "code",
   "execution_count": 163,
   "metadata": {
    "colab": {
     "base_uri": "https://localhost:8080/"
    },
    "id": "RRY8UTodeqmX",
    "outputId": "62df54ed-fc65-4479-80ff-d00d4e5d127d"
   },
   "outputs": [
    {
     "name": "stdout",
     "output_type": "stream",
     "text": [
      "Response\n",
      "[['Hello', 'Hi', 'Hi there', 'Hey'], [\"I'm Zain, your bot assistant\", \"I'm Zain , an Artificial Intelligent bot\", \"I'm Zain , an Amit Artificial Intelligent bot\"], ['You can call me Zain.', \"I'm Zain!\", 'Just call me as Zain'], ['Tell me how can assist you', 'Tell me your problem to assist you', 'Yes Sure, How can I support you'], ['It is better for you to pray', 'Get close to Allah', 'You can watch a movie', 'Go out with friends'], ['I think you are great!', 'You are a genius!', 'You are awesome'], ['Happy to help!', 'Any time!', 'My pleasure', \"You're most welcome!\"], ['See you later', 'Have a nice day', 'Bye! Come back again']]\n"
     ]
    }
   ],
   "source": [
    "print('Response')\n",
    "print(response)"
   ]
  },
  {
   "cell_type": "code",
   "execution_count": 164,
   "metadata": {
    "colab": {
     "base_uri": "https://localhost:8080/"
    },
    "id": "-6bML3Ive98F",
    "outputId": "717ed5c3-44af-4819-8357-0fcaebc44482"
   },
   "outputs": [
    {
     "data": {
      "text/plain": [
       "34"
      ]
     },
     "execution_count": 164,
     "metadata": {},
     "output_type": "execute_result"
    }
   ],
   "source": [
    "len(training_labels)"
   ]
  },
  {
   "cell_type": "code",
   "execution_count": 165,
   "metadata": {
    "colab": {
     "base_uri": "https://localhost:8080/"
    },
    "id": "hlifINfEfVoR",
    "outputId": "9a154bc5-3f5f-45ad-d9ca-d4d700a8cae3"
   },
   "outputs": [
    {
     "data": {
      "text/plain": [
       "8"
      ]
     },
     "execution_count": 165,
     "metadata": {},
     "output_type": "execute_result"
    }
   ],
   "source": [
    "len(set(training_labels))"
   ]
  },
  {
   "cell_type": "markdown",
   "metadata": {
    "id": "LdHfsxyyfqu0"
   },
   "source": [
    "Preprocessing"
   ]
  },
  {
   "cell_type": "code",
   "execution_count": 166,
   "metadata": {
    "colab": {
     "base_uri": "https://localhost:8080/"
    },
    "id": "oPdtwIZRg--U",
    "outputId": "1dab9739-19da-4a9b-f5d9-b71ac2d1aed5"
   },
   "outputs": [
    {
     "data": {
      "text/plain": [
       "['Hi',\n",
       " 'Hey',\n",
       " 'Is anyone there?',\n",
       " 'Hello',\n",
       " 'Hay',\n",
       " 'Who are you?',\n",
       " 'What are you?',\n",
       " 'Who you are?',\n",
       " 'what is your name?',\n",
       " 'what should I call you?',\n",
       " 'whats your name?',\n",
       " 'Could you help me?',\n",
       " 'give me a hand please.',\n",
       " 'Can you help?',\n",
       " 'What can you do for me?',\n",
       " 'I need a support.',\n",
       " 'I need a help',\n",
       " 'support me please',\n",
       " \"I'm sad\",\n",
       " \"I'm so sad\",\n",
       " 'I feel bad',\n",
       " 'I am alone',\n",
       " 'I have a lot of problems',\n",
       " 'I am depressed',\n",
       " 'I need encouragement',\n",
       " \"I'm so frustrated\",\n",
       " \"I'm so frustrated with myself because I lost confidence\",\n",
       " 'Thanks',\n",
       " 'Thank you',\n",
       " \"That's helpful\",\n",
       " 'Thanks for the help',\n",
       " 'Bye',\n",
       " 'See you later',\n",
       " 'Goodbye']"
      ]
     },
     "execution_count": 166,
     "metadata": {},
     "output_type": "execute_result"
    }
   ],
   "source": [
    "training_example"
   ]
  },
  {
   "cell_type": "code",
   "execution_count": 167,
   "metadata": {
    "id": "jE3LGFTdfeA3"
   },
   "outputs": [],
   "source": [
    "def clean_text(sentences):\n",
    "    result=[]\n",
    "    for sentence in sentences:\n",
    "        #sentence=re.sub(r'\\W',' ',sentence)# pattern  # text \n",
    "        sentence=sentence.lower()\n",
    "        result.append(sentence)\n",
    "        \n",
    "    return result"
   ]
  },
  {
   "cell_type": "code",
   "execution_count": 168,
   "metadata": {
    "id": "uZSvuySwgYXe"
   },
   "outputs": [],
   "source": [
    "training_example=clean_text(training_example)"
   ]
  },
  {
   "cell_type": "code",
   "execution_count": 169,
   "metadata": {},
   "outputs": [
    {
     "data": {
      "text/plain": [
       "['hi',\n",
       " 'hey',\n",
       " 'is anyone there?',\n",
       " 'hello',\n",
       " 'hay',\n",
       " 'who are you?',\n",
       " 'what are you?',\n",
       " 'who you are?',\n",
       " 'what is your name?',\n",
       " 'what should i call you?',\n",
       " 'whats your name?',\n",
       " 'could you help me?',\n",
       " 'give me a hand please.',\n",
       " 'can you help?',\n",
       " 'what can you do for me?',\n",
       " 'i need a support.',\n",
       " 'i need a help',\n",
       " 'support me please',\n",
       " \"i'm sad\",\n",
       " \"i'm so sad\",\n",
       " 'i feel bad',\n",
       " 'i am alone',\n",
       " 'i have a lot of problems',\n",
       " 'i am depressed',\n",
       " 'i need encouragement',\n",
       " \"i'm so frustrated\",\n",
       " \"i'm so frustrated with myself because i lost confidence\",\n",
       " 'thanks',\n",
       " 'thank you',\n",
       " \"that's helpful\",\n",
       " 'thanks for the help',\n",
       " 'bye',\n",
       " 'see you later',\n",
       " 'goodbye']"
      ]
     },
     "execution_count": 169,
     "metadata": {},
     "output_type": "execute_result"
    }
   ],
   "source": [
    "training_example"
   ]
  },
  {
   "cell_type": "markdown",
   "metadata": {
    "id": "Y7Z0dZXjjz_T"
   },
   "source": [
    "convert label values"
   ]
  },
  {
   "cell_type": "code",
   "execution_count": 170,
   "metadata": {
    "id": "GxxBf1fQixNb"
   },
   "outputs": [],
   "source": [
    "le=LabelEncoder()\n",
    "le.fit(training_labels)\n",
    "training_labels=le.fit_transform(training_labels)"
   ]
  },
  {
   "cell_type": "code",
   "execution_count": 171,
   "metadata": {
    "colab": {
     "base_uri": "https://localhost:8080/"
    },
    "id": "IoI0apTHkGo2",
    "outputId": "a34777d7-4ed1-493c-a661-af99ba7cd1fb"
   },
   "outputs": [
    {
     "data": {
      "text/plain": [
       "array([2, 2, 2, 2, 2, 0, 0, 0, 4, 4, 4, 3, 3, 3, 3, 3, 3, 3, 6, 6, 6, 6,\n",
       "       6, 5, 5, 5, 5, 7, 7, 7, 7, 1, 1, 1], dtype=int64)"
      ]
     },
     "execution_count": 171,
     "metadata": {},
     "output_type": "execute_result"
    }
   ],
   "source": [
    "training_labels"
   ]
  },
  {
   "cell_type": "code",
   "execution_count": 172,
   "metadata": {
    "colab": {
     "base_uri": "https://localhost:8080/"
    },
    "id": "mvhZCy9_qFc7",
    "outputId": "526f70f8-b253-4c7b-878d-86307c4534af"
   },
   "outputs": [],
   "source": [
    "# Initialize the LabelEncoder\n",
    "le = LabelEncoder()\n",
    "\n",
    "# Fit and transform the training labels\n",
    "training_labels_encoded = le.fit_transform(training_labels)\n",
    "\n",
    "# Convert the encoded labels into categorical format\n",
    "training_labels_categorical = to_categorical(training_labels_encoded)"
   ]
  },
  {
   "cell_type": "markdown",
   "metadata": {
    "id": "ag5o05eJlujN"
   },
   "source": [
    "Convert words to vectors"
   ]
  },
  {
   "cell_type": "code",
   "execution_count": 173,
   "metadata": {},
   "outputs": [
    {
     "name": "stdout",
     "output_type": "stream",
     "text": [
      "[[33], [42], [4, 39, 24], [42], [6], [37, 5, 33], [35, 5, 33], [37, 42, 46], [35, 4, 35, 37], [35, 16, 25, 3, 33], [28, 35, 37], [18, 42, 34, 47], [41, 32, 46, 28, 11], [44, 42, 16], [35, 44, 42, 39, 9, 47], [25, 35, 46, 13], [25, 35, 46, 34], [31, 32, 29], [34, 23], [34, 31, 23], [25, 11, 16], [25, 8, 35], [25, 15, 46, 11, 23, 31], [25, 8, 24], [25, 35, 12], [34, 31, 44], [34, 31, 44, 1, 49, 20, 25, 22, 38], [26], [35, 42], [22, 23], [26, 9, 39, 34], [22], [39, 42, 15], [7]]\n"
     ]
    }
   ],
   "source": [
    "from tensorflow.keras.preprocessing.text import one_hot \n",
    "sequnces=[one_hot(example,50,filters='') for example in training_example]\n",
    "print(sequnces)"
   ]
  },
  {
   "cell_type": "code",
   "execution_count": 174,
   "metadata": {
    "colab": {
     "base_uri": "https://localhost:8080/"
    },
    "id": "S80n4A1_kHwt",
    "outputId": "ca477485-05e5-45eb-89ed-242a1b1ad872"
   },
   "outputs": [
    {
     "name": "stdout",
     "output_type": "stream",
     "text": [
      "[[23], [24], [11, 25, 26], [27], [28], [12, 8, 1], [3, 8, 1], [12, 1, 8], [3, 11, 13, 14], [3, 29, 2, 30, 1], [31, 13, 14], [32, 1, 4, 5], [33, 5, 6, 34, 15], [16, 1, 4], [3, 16, 1, 35, 17, 5], [2, 9, 6, 18], [2, 9, 6, 4], [18, 5, 15], [7, 19], [7, 10, 19], [2, 36, 37], [2, 20, 38], [2, 39, 6, 40, 41, 42], [2, 20, 43], [2, 9, 44], [7, 10, 21], [7, 10, 21, 45, 46, 47, 2, 48, 49], [22], [50, 1], [51, 52], [22, 17, 53, 4], [54], [55, 1, 56], [57]]\n"
     ]
    }
   ],
   "source": [
    "toknizer=Tokenizer(num_words=100)\n",
    "toknizer.fit_on_texts(training_example)\n",
    "sequnces=toknizer.texts_to_sequences(training_example)\n",
    "print(sequnces)"
   ]
  },
  {
   "cell_type": "code",
   "execution_count": 175,
   "metadata": {
    "colab": {
     "base_uri": "https://localhost:8080/"
    },
    "id": "NogQSSfzmBum",
    "outputId": "42b68e12-88de-4dfe-ab8f-51f56aba6d9d"
   },
   "outputs": [
    {
     "name": "stdout",
     "output_type": "stream",
     "text": [
      "[[ 0  0  0  0  0  0  0  0  0  0  0  0  0  0  0  0  0  0  0 23]\n",
      " [ 0  0  0  0  0  0  0  0  0  0  0  0  0  0  0  0  0  0  0 24]\n",
      " [ 0  0  0  0  0  0  0  0  0  0  0  0  0  0  0  0  0 11 25 26]\n",
      " [ 0  0  0  0  0  0  0  0  0  0  0  0  0  0  0  0  0  0  0 27]\n",
      " [ 0  0  0  0  0  0  0  0  0  0  0  0  0  0  0  0  0  0  0 28]\n",
      " [ 0  0  0  0  0  0  0  0  0  0  0  0  0  0  0  0  0 12  8  1]\n",
      " [ 0  0  0  0  0  0  0  0  0  0  0  0  0  0  0  0  0  3  8  1]\n",
      " [ 0  0  0  0  0  0  0  0  0  0  0  0  0  0  0  0  0 12  1  8]\n",
      " [ 0  0  0  0  0  0  0  0  0  0  0  0  0  0  0  0  3 11 13 14]\n",
      " [ 0  0  0  0  0  0  0  0  0  0  0  0  0  0  0  3 29  2 30  1]\n",
      " [ 0  0  0  0  0  0  0  0  0  0  0  0  0  0  0  0  0 31 13 14]\n",
      " [ 0  0  0  0  0  0  0  0  0  0  0  0  0  0  0  0 32  1  4  5]\n",
      " [ 0  0  0  0  0  0  0  0  0  0  0  0  0  0  0 33  5  6 34 15]\n",
      " [ 0  0  0  0  0  0  0  0  0  0  0  0  0  0  0  0  0 16  1  4]\n",
      " [ 0  0  0  0  0  0  0  0  0  0  0  0  0  0  3 16  1 35 17  5]\n",
      " [ 0  0  0  0  0  0  0  0  0  0  0  0  0  0  0  0  2  9  6 18]\n",
      " [ 0  0  0  0  0  0  0  0  0  0  0  0  0  0  0  0  2  9  6  4]\n",
      " [ 0  0  0  0  0  0  0  0  0  0  0  0  0  0  0  0  0 18  5 15]\n",
      " [ 0  0  0  0  0  0  0  0  0  0  0  0  0  0  0  0  0  0  7 19]\n",
      " [ 0  0  0  0  0  0  0  0  0  0  0  0  0  0  0  0  0  7 10 19]\n",
      " [ 0  0  0  0  0  0  0  0  0  0  0  0  0  0  0  0  0  2 36 37]\n",
      " [ 0  0  0  0  0  0  0  0  0  0  0  0  0  0  0  0  0  2 20 38]\n",
      " [ 0  0  0  0  0  0  0  0  0  0  0  0  0  0  2 39  6 40 41 42]\n",
      " [ 0  0  0  0  0  0  0  0  0  0  0  0  0  0  0  0  0  2 20 43]\n",
      " [ 0  0  0  0  0  0  0  0  0  0  0  0  0  0  0  0  0  2  9 44]\n",
      " [ 0  0  0  0  0  0  0  0  0  0  0  0  0  0  0  0  0  7 10 21]\n",
      " [ 0  0  0  0  0  0  0  0  0  0  0  7 10 21 45 46 47  2 48 49]\n",
      " [ 0  0  0  0  0  0  0  0  0  0  0  0  0  0  0  0  0  0  0 22]\n",
      " [ 0  0  0  0  0  0  0  0  0  0  0  0  0  0  0  0  0  0 50  1]\n",
      " [ 0  0  0  0  0  0  0  0  0  0  0  0  0  0  0  0  0  0 51 52]\n",
      " [ 0  0  0  0  0  0  0  0  0  0  0  0  0  0  0  0 22 17 53  4]\n",
      " [ 0  0  0  0  0  0  0  0  0  0  0  0  0  0  0  0  0  0  0 54]\n",
      " [ 0  0  0  0  0  0  0  0  0  0  0  0  0  0  0  0  0 55  1 56]\n",
      " [ 0  0  0  0  0  0  0  0  0  0  0  0  0  0  0  0  0  0  0 57]]\n"
     ]
    }
   ],
   "source": [
    "padded_sequence=pad_sequences(sequnces,truncating='post',maxlen=20)\n",
    "print(padded_sequence)"
   ]
  },
  {
   "cell_type": "code",
   "execution_count": 176,
   "metadata": {
    "colab": {
     "base_uri": "https://localhost:8080/"
    },
    "id": "yq-wIrrnmLrm",
    "outputId": "ad307708-b848-4913-a8e1-43ce0d46a7e0"
   },
   "outputs": [
    {
     "data": {
      "text/html": [
       "<pre style=\"white-space:pre;overflow-x:auto;line-height:normal;font-family:Menlo,'DejaVu Sans Mono',consolas,'Courier New',monospace\"><span style=\"font-weight: bold\">Model: \"sequential_27\"</span>\n",
       "</pre>\n"
      ],
      "text/plain": [
       "\u001b[1mModel: \"sequential_27\"\u001b[0m\n"
      ]
     },
     "metadata": {},
     "output_type": "display_data"
    },
    {
     "data": {
      "text/html": [
       "<pre style=\"white-space:pre;overflow-x:auto;line-height:normal;font-family:Menlo,'DejaVu Sans Mono',consolas,'Courier New',monospace\">┏━━━━━━━━━━━━━━━━━━━━━━━━━━━━━━━━━┳━━━━━━━━━━━━━━━━━━━━━━━━┳━━━━━━━━━━━━━━━┓\n",
       "┃<span style=\"font-weight: bold\"> Layer (type)                    </span>┃<span style=\"font-weight: bold\"> Output Shape           </span>┃<span style=\"font-weight: bold\">       Param # </span>┃\n",
       "┡━━━━━━━━━━━━━━━━━━━━━━━━━━━━━━━━━╇━━━━━━━━━━━━━━━━━━━━━━━━╇━━━━━━━━━━━━━━━┩\n",
       "│ embedding_27 (<span style=\"color: #0087ff; text-decoration-color: #0087ff\">Embedding</span>)        │ ?                      │   <span style=\"color: #00af00; text-decoration-color: #00af00\">0</span> (unbuilt) │\n",
       "├─────────────────────────────────┼────────────────────────┼───────────────┤\n",
       "│ global_average_pooling1d_13     │ ?                      │   <span style=\"color: #00af00; text-decoration-color: #00af00\">0</span> (unbuilt) │\n",
       "│ (<span style=\"color: #0087ff; text-decoration-color: #0087ff\">GlobalAveragePooling1D</span>)        │                        │               │\n",
       "├─────────────────────────────────┼────────────────────────┼───────────────┤\n",
       "│ dense_33 (<span style=\"color: #0087ff; text-decoration-color: #0087ff\">Dense</span>)                │ ?                      │   <span style=\"color: #00af00; text-decoration-color: #00af00\">0</span> (unbuilt) │\n",
       "├─────────────────────────────────┼────────────────────────┼───────────────┤\n",
       "│ dense_34 (<span style=\"color: #0087ff; text-decoration-color: #0087ff\">Dense</span>)                │ ?                      │   <span style=\"color: #00af00; text-decoration-color: #00af00\">0</span> (unbuilt) │\n",
       "├─────────────────────────────────┼────────────────────────┼───────────────┤\n",
       "│ dense_35 (<span style=\"color: #0087ff; text-decoration-color: #0087ff\">Dense</span>)                │ ?                      │   <span style=\"color: #00af00; text-decoration-color: #00af00\">0</span> (unbuilt) │\n",
       "└─────────────────────────────────┴────────────────────────┴───────────────┘\n",
       "</pre>\n"
      ],
      "text/plain": [
       "┏━━━━━━━━━━━━━━━━━━━━━━━━━━━━━━━━━┳━━━━━━━━━━━━━━━━━━━━━━━━┳━━━━━━━━━━━━━━━┓\n",
       "┃\u001b[1m \u001b[0m\u001b[1mLayer (type)                   \u001b[0m\u001b[1m \u001b[0m┃\u001b[1m \u001b[0m\u001b[1mOutput Shape          \u001b[0m\u001b[1m \u001b[0m┃\u001b[1m \u001b[0m\u001b[1m      Param #\u001b[0m\u001b[1m \u001b[0m┃\n",
       "┡━━━━━━━━━━━━━━━━━━━━━━━━━━━━━━━━━╇━━━━━━━━━━━━━━━━━━━━━━━━╇━━━━━━━━━━━━━━━┩\n",
       "│ embedding_27 (\u001b[38;5;33mEmbedding\u001b[0m)        │ ?                      │   \u001b[38;5;34m0\u001b[0m (unbuilt) │\n",
       "├─────────────────────────────────┼────────────────────────┼───────────────┤\n",
       "│ global_average_pooling1d_13     │ ?                      │   \u001b[38;5;34m0\u001b[0m (unbuilt) │\n",
       "│ (\u001b[38;5;33mGlobalAveragePooling1D\u001b[0m)        │                        │               │\n",
       "├─────────────────────────────────┼────────────────────────┼───────────────┤\n",
       "│ dense_33 (\u001b[38;5;33mDense\u001b[0m)                │ ?                      │   \u001b[38;5;34m0\u001b[0m (unbuilt) │\n",
       "├─────────────────────────────────┼────────────────────────┼───────────────┤\n",
       "│ dense_34 (\u001b[38;5;33mDense\u001b[0m)                │ ?                      │   \u001b[38;5;34m0\u001b[0m (unbuilt) │\n",
       "├─────────────────────────────────┼────────────────────────┼───────────────┤\n",
       "│ dense_35 (\u001b[38;5;33mDense\u001b[0m)                │ ?                      │   \u001b[38;5;34m0\u001b[0m (unbuilt) │\n",
       "└─────────────────────────────────┴────────────────────────┴───────────────┘\n"
      ]
     },
     "metadata": {},
     "output_type": "display_data"
    },
    {
     "data": {
      "text/html": [
       "<pre style=\"white-space:pre;overflow-x:auto;line-height:normal;font-family:Menlo,'DejaVu Sans Mono',consolas,'Courier New',monospace\"><span style=\"font-weight: bold\"> Total params: </span><span style=\"color: #00af00; text-decoration-color: #00af00\">0</span> (0.00 B)\n",
       "</pre>\n"
      ],
      "text/plain": [
       "\u001b[1m Total params: \u001b[0m\u001b[38;5;34m0\u001b[0m (0.00 B)\n"
      ]
     },
     "metadata": {},
     "output_type": "display_data"
    },
    {
     "data": {
      "text/html": [
       "<pre style=\"white-space:pre;overflow-x:auto;line-height:normal;font-family:Menlo,'DejaVu Sans Mono',consolas,'Courier New',monospace\"><span style=\"font-weight: bold\"> Trainable params: </span><span style=\"color: #00af00; text-decoration-color: #00af00\">0</span> (0.00 B)\n",
       "</pre>\n"
      ],
      "text/plain": [
       "\u001b[1m Trainable params: \u001b[0m\u001b[38;5;34m0\u001b[0m (0.00 B)\n"
      ]
     },
     "metadata": {},
     "output_type": "display_data"
    },
    {
     "data": {
      "text/html": [
       "<pre style=\"white-space:pre;overflow-x:auto;line-height:normal;font-family:Menlo,'DejaVu Sans Mono',consolas,'Courier New',monospace\"><span style=\"font-weight: bold\"> Non-trainable params: </span><span style=\"color: #00af00; text-decoration-color: #00af00\">0</span> (0.00 B)\n",
       "</pre>\n"
      ],
      "text/plain": [
       "\u001b[1m Non-trainable params: \u001b[0m\u001b[38;5;34m0\u001b[0m (0.00 B)\n"
      ]
     },
     "metadata": {},
     "output_type": "display_data"
    }
   ],
   "source": [
    "from tensorflow.keras.models import Sequential\n",
    "from tensorflow.keras.layers import Dense ,LSTM,Embedding ,GlobalAveragePooling1D\n",
    "\n",
    "model=Sequential()\n",
    "model.add(Embedding(100,10))\n",
    "model.add(GlobalAveragePooling1D())\n",
    "model.add(Dense(10,activation='relu'))\n",
    "model.add(Dense(10,activation='relu'))\n",
    "model.add(Dense(8,activation='softmax'))\n",
    "\n",
    "\n",
    "model.compile(loss='categorical_crossentropy',optimizer='adam',metrics=['accuracy'])\n",
    "model.summary()"
   ]
  },
  {
   "cell_type": "code",
   "execution_count": null,
   "metadata": {},
   "outputs": [],
   "source": []
  },
  {
   "cell_type": "code",
   "execution_count": 177,
   "metadata": {
    "colab": {
     "base_uri": "https://localhost:8080/"
    },
    "id": "Ilg4_fStqnCr",
    "outputId": "17136b75-0d7b-41f9-9332-d74032a275c5"
   },
   "outputs": [
    {
     "name": "stdout",
     "output_type": "stream",
     "text": [
      "Epoch 1/400\n"
     ]
    },
    {
     "ename": "ValueError",
     "evalue": "Arguments `target` and `output` must have the same rank (ndim). Received: target.shape=(None,), output.shape=(None, 8)",
     "output_type": "error",
     "traceback": [
      "\u001b[1;31m---------------------------------------------------------------------------\u001b[0m",
      "\u001b[1;31mValueError\u001b[0m                                Traceback (most recent call last)",
      "Cell \u001b[1;32mIn[177], line 1\u001b[0m\n\u001b[1;32m----> 1\u001b[0m history\u001b[38;5;241m=\u001b[39m\u001b[43mmodel\u001b[49m\u001b[38;5;241;43m.\u001b[39;49m\u001b[43mfit\u001b[49m\u001b[43m(\u001b[49m\u001b[43mnp\u001b[49m\u001b[38;5;241;43m.\u001b[39;49m\u001b[43marray\u001b[49m\u001b[43m(\u001b[49m\u001b[43mpadded_sequence\u001b[49m\u001b[43m)\u001b[49m\u001b[43m,\u001b[49m\u001b[43mtraining_labels\u001b[49m\u001b[43m,\u001b[49m\u001b[43mepochs\u001b[49m\u001b[38;5;241;43m=\u001b[39;49m\u001b[38;5;241;43m400\u001b[39;49m\u001b[43m)\u001b[49m\n",
      "File \u001b[1;32m~\\AppData\\Roaming\\Python\\Python310\\site-packages\\keras\\src\\utils\\traceback_utils.py:122\u001b[0m, in \u001b[0;36mfilter_traceback.<locals>.error_handler\u001b[1;34m(*args, **kwargs)\u001b[0m\n\u001b[0;32m    119\u001b[0m     filtered_tb \u001b[38;5;241m=\u001b[39m _process_traceback_frames(e\u001b[38;5;241m.\u001b[39m__traceback__)\n\u001b[0;32m    120\u001b[0m     \u001b[38;5;66;03m# To get the full stack trace, call:\u001b[39;00m\n\u001b[0;32m    121\u001b[0m     \u001b[38;5;66;03m# `keras.config.disable_traceback_filtering()`\u001b[39;00m\n\u001b[1;32m--> 122\u001b[0m     \u001b[38;5;28;01mraise\u001b[39;00m e\u001b[38;5;241m.\u001b[39mwith_traceback(filtered_tb) \u001b[38;5;28;01mfrom\u001b[39;00m \u001b[38;5;28;01mNone\u001b[39;00m\n\u001b[0;32m    123\u001b[0m \u001b[38;5;28;01mfinally\u001b[39;00m:\n\u001b[0;32m    124\u001b[0m     \u001b[38;5;28;01mdel\u001b[39;00m filtered_tb\n",
      "File \u001b[1;32m~\\AppData\\Roaming\\Python\\Python310\\site-packages\\keras\\src\\backend\\tensorflow\\nn.py:546\u001b[0m, in \u001b[0;36mcategorical_crossentropy\u001b[1;34m(target, output, from_logits, axis)\u001b[0m\n\u001b[0;32m    540\u001b[0m     \u001b[38;5;28;01mraise\u001b[39;00m \u001b[38;5;167;01mValueError\u001b[39;00m(\n\u001b[0;32m    541\u001b[0m         \u001b[38;5;124m\"\u001b[39m\u001b[38;5;124mArguments `target` and `output` must be at least rank 1. \u001b[39m\u001b[38;5;124m\"\u001b[39m\n\u001b[0;32m    542\u001b[0m         \u001b[38;5;124m\"\u001b[39m\u001b[38;5;124mReceived: \u001b[39m\u001b[38;5;124m\"\u001b[39m\n\u001b[0;32m    543\u001b[0m         \u001b[38;5;124mf\u001b[39m\u001b[38;5;124m\"\u001b[39m\u001b[38;5;124mtarget.shape=\u001b[39m\u001b[38;5;132;01m{\u001b[39;00mtarget\u001b[38;5;241m.\u001b[39mshape\u001b[38;5;132;01m}\u001b[39;00m\u001b[38;5;124m, output.shape=\u001b[39m\u001b[38;5;132;01m{\u001b[39;00moutput\u001b[38;5;241m.\u001b[39mshape\u001b[38;5;132;01m}\u001b[39;00m\u001b[38;5;124m\"\u001b[39m\n\u001b[0;32m    544\u001b[0m     )\n\u001b[0;32m    545\u001b[0m \u001b[38;5;28;01mif\u001b[39;00m \u001b[38;5;28mlen\u001b[39m(target\u001b[38;5;241m.\u001b[39mshape) \u001b[38;5;241m!=\u001b[39m \u001b[38;5;28mlen\u001b[39m(output\u001b[38;5;241m.\u001b[39mshape):\n\u001b[1;32m--> 546\u001b[0m     \u001b[38;5;28;01mraise\u001b[39;00m \u001b[38;5;167;01mValueError\u001b[39;00m(\n\u001b[0;32m    547\u001b[0m         \u001b[38;5;124m\"\u001b[39m\u001b[38;5;124mArguments `target` and `output` must have the same rank \u001b[39m\u001b[38;5;124m\"\u001b[39m\n\u001b[0;32m    548\u001b[0m         \u001b[38;5;124m\"\u001b[39m\u001b[38;5;124m(ndim). Received: \u001b[39m\u001b[38;5;124m\"\u001b[39m\n\u001b[0;32m    549\u001b[0m         \u001b[38;5;124mf\u001b[39m\u001b[38;5;124m\"\u001b[39m\u001b[38;5;124mtarget.shape=\u001b[39m\u001b[38;5;132;01m{\u001b[39;00mtarget\u001b[38;5;241m.\u001b[39mshape\u001b[38;5;132;01m}\u001b[39;00m\u001b[38;5;124m, output.shape=\u001b[39m\u001b[38;5;132;01m{\u001b[39;00moutput\u001b[38;5;241m.\u001b[39mshape\u001b[38;5;132;01m}\u001b[39;00m\u001b[38;5;124m\"\u001b[39m\n\u001b[0;32m    550\u001b[0m     )\n\u001b[0;32m    551\u001b[0m \u001b[38;5;28;01mfor\u001b[39;00m e1, e2 \u001b[38;5;129;01min\u001b[39;00m \u001b[38;5;28mzip\u001b[39m(target\u001b[38;5;241m.\u001b[39mshape, output\u001b[38;5;241m.\u001b[39mshape):\n\u001b[0;32m    552\u001b[0m     \u001b[38;5;28;01mif\u001b[39;00m e1 \u001b[38;5;129;01mis\u001b[39;00m \u001b[38;5;129;01mnot\u001b[39;00m \u001b[38;5;28;01mNone\u001b[39;00m \u001b[38;5;129;01mand\u001b[39;00m e2 \u001b[38;5;129;01mis\u001b[39;00m \u001b[38;5;129;01mnot\u001b[39;00m \u001b[38;5;28;01mNone\u001b[39;00m \u001b[38;5;129;01mand\u001b[39;00m e1 \u001b[38;5;241m!=\u001b[39m e2:\n",
      "\u001b[1;31mValueError\u001b[0m: Arguments `target` and `output` must have the same rank (ndim). Received: target.shape=(None,), output.shape=(None, 8)"
     ]
    }
   ],
   "source": [
    "history=model.fit(np.array(padded_sequence),training_labels,epochs=400)\n"
   ]
  },
  {
   "cell_type": "markdown",
   "metadata": {
    "id": "zMigw85Xrt6O"
   },
   "source": [
    "Save Model"
   ]
  },
  {
   "cell_type": "code",
   "execution_count": null,
   "metadata": {
    "colab": {
     "base_uri": "https://localhost:8080/"
    },
    "id": "VXwyMxiGvVXU",
    "outputId": "3c7670bc-0e9d-4b0e-afdf-b10936c8942d"
   },
   "outputs": [],
   "source": [
    "inp='hello'\n",
    "sent=pad_sequences(toknizer.texts_to_sequences([inp]),maxlen=20)\n",
    "print(sent)\n",
    "result=np.argmax(model.predict(np.array(sent))) # 0-7 \n",
    "print(result)\n",
    "f_res=le.inverse_transform(np.array(result).reshape(1))\n",
    "print(f_res)"
   ]
  },
  {
   "cell_type": "markdown",
   "metadata": {},
   "source": [
    "## Save Model\n"
   ]
  },
  {
   "cell_type": "code",
   "execution_count": null,
   "metadata": {},
   "outputs": [],
   "source": [
    "import pickle as pk \n",
    "#save tokinizer\n",
    "pk.dump(toknizer,open(\"toknizer.pkl\",\"wb\"))"
   ]
  },
  {
   "cell_type": "code",
   "execution_count": null,
   "metadata": {},
   "outputs": [],
   "source": [
    "#save encoder\n",
    "pk.dump(le,open(\"label_encoder.pkl\",\"wb\"))"
   ]
  },
  {
   "cell_type": "code",
   "execution_count": null,
   "metadata": {
    "id": "Nyz31ew_rtbK"
   },
   "outputs": [],
   "source": [
    "model.save('model.h5') # save model \n",
    "from tensorflow.keras.models import load_model\n",
    "model=load_model('model.h5') # load model "
   ]
  },
  {
   "cell_type": "markdown",
   "metadata": {
    "id": "k2YhYdDXrq9h"
   },
   "source": [
    "Interface"
   ]
  },
  {
   "cell_type": "code",
   "execution_count": null,
   "metadata": {
    "id": "RIjWXav_q_13"
   },
   "outputs": [],
   "source": [
    "def user_chat():\n",
    "    while True :\n",
    "        print(\"User : \",end=\"\") \n",
    "        inp=input()\n",
    "\n",
    "        if inp.lower()=='quit':\n",
    "            break\n",
    "        \n",
    "        sent=pad_sequences(toknizer.texts_to_sequences([inp]),maxlen=20) #[] len=20\n",
    "\n",
    "        result=np.argmax(model.predict(np.array(sent),verbose=0)) # 0-7 \n",
    "        # 2 ,3 , 4\n",
    "        f_res=le.inverse_transform(np.array(result).reshape(1))\n",
    "\n",
    "\n",
    "        for label in data['data']:\n",
    "\n",
    "            if label['label']==f_res:\n",
    "\n",
    "                print('ChatBot : ',np.random.choice(label['responses']))\n",
    "\n"
   ]
  },
  {
   "cell_type": "code",
   "execution_count": null,
   "metadata": {
    "colab": {
     "base_uri": "https://localhost:8080/"
    },
    "id": "glDzWm4Qtsol",
    "outputId": "01930605-c52b-44ba-af3c-dcd5926161c2"
   },
   "outputs": [],
   "source": [
    "print(\"Start Conversation with Chatbot\")\n",
    "user_chat()"
   ]
  },
  {
   "cell_type": "code",
   "execution_count": null,
   "metadata": {
    "id": "qEJvo_PmtzPx"
   },
   "outputs": [],
   "source": []
  }
 ],
 "metadata": {
  "colab": {
   "provenance": []
  },
  "kernelspec": {
   "display_name": "Python 3 (ipykernel)",
   "language": "python",
   "name": "python3"
  },
  "language_info": {
   "codemirror_mode": {
    "name": "ipython",
    "version": 3
   },
   "file_extension": ".py",
   "mimetype": "text/x-python",
   "name": "python",
   "nbconvert_exporter": "python",
   "pygments_lexer": "ipython3",
   "version": "3.10.11"
  }
 },
 "nbformat": 4,
 "nbformat_minor": 4
}
