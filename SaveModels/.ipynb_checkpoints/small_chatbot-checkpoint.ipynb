{
 "cells": [
  {
   "cell_type": "markdown",
   "metadata": {
    "id": "YyOWMS4McAF1"
   },
   "source": [
    "# Import Liberaries "
   ]
  },
  {
   "cell_type": "code",
   "execution_count": 23,
   "metadata": {
    "id": "Q7aykQWj7_af"
   },
   "outputs": [],
   "source": [
    "import json \n",
    "import re \n",
    "from sklearn.preprocessing import LabelEncoder\n",
    "import numpy as np \n",
    "import tensorflow as tf\n",
    "from tensorflow.keras.utils import to_categorical\n",
    "from tensorflow.keras.preprocessing.text import Tokenizer\n",
    "from tensorflow.keras.preprocessing.sequence import pad_sequences"
   ]
  },
  {
   "cell_type": "markdown",
   "metadata": {
    "id": "NifGVcvTcHmG"
   },
   "source": [
    "Read Data"
   ]
  },
  {
   "cell_type": "code",
   "execution_count": 24,
   "metadata": {
    "id": "Cp_jWjBpcHBw"
   },
   "outputs": [],
   "source": [
    "with open(r'D:\\AI Course\\final project\\Chatbot\\Chatbot\\SaveModels\\data.json') as file:\n",
    "    data=json.load(file)"
   ]
  },
  {
   "cell_type": "code",
   "execution_count": 25,
   "metadata": {},
   "outputs": [
    {
     "data": {
      "text/plain": [
       "[{'label': 'greeting',\n",
       "  'patterns': ['Hi', 'Hey', 'Is anyone there?', 'Hello', 'Hay'],\n",
       "  'responses': ['Hello', 'Hi', 'Hi there', 'Hey']},\n",
       " {'label': 'about',\n",
       "  'patterns': ['Who are you?', 'What are you?', 'Who you are?'],\n",
       "  'responses': [\"I'm Zain, your bot assistant\",\n",
       "   \"I'm Zain , an Artificial Intelligent bot\",\n",
       "   \"I'm Zain , an Amit Artificial Intelligent bot\"]},\n",
       " {'label': 'name',\n",
       "  'patterns': ['what is your name?',\n",
       "   'what should I call you?',\n",
       "   'whats your name?'],\n",
       "  'responses': ['You can call me Zain.', \"I'm Zain!\", 'Just call me as Zain']},\n",
       " {'label': 'help',\n",
       "  'patterns': ['Could you help me?',\n",
       "   'give me a hand please.',\n",
       "   'Can you help?',\n",
       "   'What can you do for me?',\n",
       "   'I need a support.',\n",
       "   'I need a help',\n",
       "   'support me please'],\n",
       "  'responses': ['Tell me how can assist you',\n",
       "   'Tell me your problem to assist you',\n",
       "   'Yes Sure, How can I support you']},\n",
       " {'label': 'sad',\n",
       "  'patterns': [\"I'm sad\",\n",
       "   \"I'm so sad\",\n",
       "   'I feel bad',\n",
       "   'I am alone',\n",
       "   'I have a lot of problems'],\n",
       "  'responses': ['It is better for you to pray',\n",
       "   'Get close to Allah',\n",
       "   'You can watch a movie',\n",
       "   'Go out with friends']},\n",
       " {'label': 'positive_sen',\n",
       "  'patterns': ['I am depressed',\n",
       "   'I need encouragement',\n",
       "   \"I'm so frustrated\",\n",
       "   \"I'm so frustrated with myself because I lost confidence\"],\n",
       "  'responses': ['I think you are great!',\n",
       "   'You are a genius!',\n",
       "   'You are awesome']},\n",
       " {'label': 'thanks',\n",
       "  'patterns': ['Thanks', 'Thank you', \"That's helpful\", 'Thanks for the help'],\n",
       "  'responses': ['Happy to help!',\n",
       "   'Any time!',\n",
       "   'My pleasure',\n",
       "   \"You're most welcome!\"]},\n",
       " {'label': 'goodbye',\n",
       "  'patterns': ['Bye', 'See you later', 'Goodbye'],\n",
       "  'responses': ['See you later', 'Have a nice day', 'Bye! Come back again']}]"
      ]
     },
     "execution_count": 25,
     "metadata": {},
     "output_type": "execute_result"
    }
   ],
   "source": [
    "data['data']"
   ]
  },
  {
   "cell_type": "markdown",
   "metadata": {
    "id": "XjCHjq6vcdb_"
   },
   "source": [
    "Create training example , label and response "
   ]
  },
  {
   "cell_type": "code",
   "execution_count": 26,
   "metadata": {
    "id": "H6OaYr4ccYp2"
   },
   "outputs": [],
   "source": [
    "training_example=[]\n",
    "training_labels=[]\n",
    "response=[]\n",
    "\n",
    "for example in data['data']:\n",
    "    for pattern in example['patterns']:\n",
    "        training_example.append(pattern)\n",
    "        training_labels.append(example['label'])\n",
    "    response.append(example['responses'])\n"
   ]
  },
  {
   "cell_type": "code",
   "execution_count": 27,
   "metadata": {
    "colab": {
     "base_uri": "https://localhost:8080/"
    },
    "id": "JTpUxsAAd6HG",
    "outputId": "6cdce4d5-1742-4fff-da1b-901fc3286f91"
   },
   "outputs": [
    {
     "name": "stdout",
     "output_type": "stream",
     "text": [
      "training example \n",
      "['Hi', 'Hey', 'Is anyone there?', 'Hello', 'Hay', 'Who are you?', 'What are you?', 'Who you are?', 'what is your name?', 'what should I call you?', 'whats your name?', 'Could you help me?', 'give me a hand please.', 'Can you help?', 'What can you do for me?', 'I need a support.', 'I need a help', 'support me please', \"I'm sad\", \"I'm so sad\", 'I feel bad', 'I am alone', 'I have a lot of problems', 'I am depressed', 'I need encouragement', \"I'm so frustrated\", \"I'm so frustrated with myself because I lost confidence\", 'Thanks', 'Thank you', \"That's helpful\", 'Thanks for the help', 'Bye', 'See you later', 'Goodbye']\n"
     ]
    }
   ],
   "source": [
    "print(\"training example \")\n",
    "print(training_example)"
   ]
  },
  {
   "cell_type": "code",
   "execution_count": 28,
   "metadata": {
    "colab": {
     "base_uri": "https://localhost:8080/"
    },
    "id": "KCyryJznelj7",
    "outputId": "55d95a5d-2174-41bb-d7df-2c352810e44d"
   },
   "outputs": [
    {
     "name": "stdout",
     "output_type": "stream",
     "text": [
      "training label \n",
      "['greeting', 'greeting', 'greeting', 'greeting', 'greeting', 'about', 'about', 'about', 'name', 'name', 'name', 'help', 'help', 'help', 'help', 'help', 'help', 'help', 'sad', 'sad', 'sad', 'sad', 'sad', 'positive_sen', 'positive_sen', 'positive_sen', 'positive_sen', 'thanks', 'thanks', 'thanks', 'thanks', 'goodbye', 'goodbye', 'goodbye']\n"
     ]
    }
   ],
   "source": [
    "print(\"training label \")\n",
    "print(training_labels)"
   ]
  },
  {
   "cell_type": "code",
   "execution_count": 29,
   "metadata": {
    "colab": {
     "base_uri": "https://localhost:8080/"
    },
    "id": "RRY8UTodeqmX",
    "outputId": "62df54ed-fc65-4479-80ff-d00d4e5d127d"
   },
   "outputs": [
    {
     "name": "stdout",
     "output_type": "stream",
     "text": [
      "Response\n",
      "[['Hello', 'Hi', 'Hi there', 'Hey'], [\"I'm Zain, your bot assistant\", \"I'm Zain , an Artificial Intelligent bot\", \"I'm Zain , an Amit Artificial Intelligent bot\"], ['You can call me Zain.', \"I'm Zain!\", 'Just call me as Zain'], ['Tell me how can assist you', 'Tell me your problem to assist you', 'Yes Sure, How can I support you'], ['It is better for you to pray', 'Get close to Allah', 'You can watch a movie', 'Go out with friends'], ['I think you are great!', 'You are a genius!', 'You are awesome'], ['Happy to help!', 'Any time!', 'My pleasure', \"You're most welcome!\"], ['See you later', 'Have a nice day', 'Bye! Come back again']]\n"
     ]
    }
   ],
   "source": [
    "print('Response')\n",
    "print(response)"
   ]
  },
  {
   "cell_type": "code",
   "execution_count": 30,
   "metadata": {
    "colab": {
     "base_uri": "https://localhost:8080/"
    },
    "id": "-6bML3Ive98F",
    "outputId": "717ed5c3-44af-4819-8357-0fcaebc44482"
   },
   "outputs": [
    {
     "data": {
      "text/plain": [
       "34"
      ]
     },
     "execution_count": 30,
     "metadata": {},
     "output_type": "execute_result"
    }
   ],
   "source": [
    "len(training_labels)"
   ]
  },
  {
   "cell_type": "code",
   "execution_count": 31,
   "metadata": {
    "colab": {
     "base_uri": "https://localhost:8080/"
    },
    "id": "hlifINfEfVoR",
    "outputId": "9a154bc5-3f5f-45ad-d9ca-d4d700a8cae3"
   },
   "outputs": [
    {
     "data": {
      "text/plain": [
       "8"
      ]
     },
     "execution_count": 31,
     "metadata": {},
     "output_type": "execute_result"
    }
   ],
   "source": [
    "len(set(training_labels))"
   ]
  },
  {
   "cell_type": "markdown",
   "metadata": {
    "id": "LdHfsxyyfqu0"
   },
   "source": [
    "Preprocessing"
   ]
  },
  {
   "cell_type": "code",
   "execution_count": 32,
   "metadata": {
    "id": "jE3LGFTdfeA3"
   },
   "outputs": [],
   "source": [
    "def clean_text(sentences):\n",
    "    result=[]\n",
    "    for sentence in sentences:\n",
    "        #sentence=re.sub(r'\\W',' ',sentence)# pattern  # text \n",
    "        sentence=sentence.lower()\n",
    "        result.append(sentence)\n",
    "        \n",
    "    return result"
   ]
  },
  {
   "cell_type": "code",
   "execution_count": 33,
   "metadata": {
    "id": "uZSvuySwgYXe"
   },
   "outputs": [],
   "source": [
    "training_example=clean_text(training_example)"
   ]
  },
  {
   "cell_type": "markdown",
   "metadata": {
    "id": "Y7Z0dZXjjz_T"
   },
   "source": [
    "convert label values"
   ]
  },
  {
   "cell_type": "code",
   "execution_count": 34,
   "metadata": {
    "id": "GxxBf1fQixNb"
   },
   "outputs": [],
   "source": [
    "le=LabelEncoder()\n",
    "le.fit(training_labels)\n",
    "training_labels=le.fit_transform(training_labels)"
   ]
  },
  {
   "cell_type": "code",
   "execution_count": 35,
   "metadata": {
    "colab": {
     "base_uri": "https://localhost:8080/"
    },
    "id": "IoI0apTHkGo2",
    "outputId": "a34777d7-4ed1-493c-a661-af99ba7cd1fb"
   },
   "outputs": [
    {
     "data": {
      "text/plain": [
       "array([2, 2, 2, 2, 2, 0, 0, 0, 4, 4, 4, 3, 3, 3, 3, 3, 3, 3, 6, 6, 6, 6,\n",
       "       6, 5, 5, 5, 5, 7, 7, 7, 7, 1, 1, 1])"
      ]
     },
     "execution_count": 35,
     "metadata": {},
     "output_type": "execute_result"
    }
   ],
   "source": [
    "training_labels"
   ]
  },
  {
   "cell_type": "code",
   "execution_count": 36,
   "metadata": {
    "colab": {
     "base_uri": "https://localhost:8080/"
    },
    "id": "mvhZCy9_qFc7",
    "outputId": "526f70f8-b253-4c7b-878d-86307c4534af"
   },
   "outputs": [
    {
     "data": {
      "text/plain": [
       "array([[0., 0., 1., 0., 0., 0., 0., 0.],\n",
       "       [0., 0., 1., 0., 0., 0., 0., 0.],\n",
       "       [0., 0., 1., 0., 0., 0., 0., 0.],\n",
       "       [0., 0., 1., 0., 0., 0., 0., 0.],\n",
       "       [0., 0., 1., 0., 0., 0., 0., 0.],\n",
       "       [1., 0., 0., 0., 0., 0., 0., 0.],\n",
       "       [1., 0., 0., 0., 0., 0., 0., 0.],\n",
       "       [1., 0., 0., 0., 0., 0., 0., 0.],\n",
       "       [0., 0., 0., 0., 1., 0., 0., 0.],\n",
       "       [0., 0., 0., 0., 1., 0., 0., 0.],\n",
       "       [0., 0., 0., 0., 1., 0., 0., 0.],\n",
       "       [0., 0., 0., 1., 0., 0., 0., 0.],\n",
       "       [0., 0., 0., 1., 0., 0., 0., 0.],\n",
       "       [0., 0., 0., 1., 0., 0., 0., 0.],\n",
       "       [0., 0., 0., 1., 0., 0., 0., 0.],\n",
       "       [0., 0., 0., 1., 0., 0., 0., 0.],\n",
       "       [0., 0., 0., 1., 0., 0., 0., 0.],\n",
       "       [0., 0., 0., 1., 0., 0., 0., 0.],\n",
       "       [0., 0., 0., 0., 0., 0., 1., 0.],\n",
       "       [0., 0., 0., 0., 0., 0., 1., 0.],\n",
       "       [0., 0., 0., 0., 0., 0., 1., 0.],\n",
       "       [0., 0., 0., 0., 0., 0., 1., 0.],\n",
       "       [0., 0., 0., 0., 0., 0., 1., 0.],\n",
       "       [0., 0., 0., 0., 0., 1., 0., 0.],\n",
       "       [0., 0., 0., 0., 0., 1., 0., 0.],\n",
       "       [0., 0., 0., 0., 0., 1., 0., 0.],\n",
       "       [0., 0., 0., 0., 0., 1., 0., 0.],\n",
       "       [0., 0., 0., 0., 0., 0., 0., 1.],\n",
       "       [0., 0., 0., 0., 0., 0., 0., 1.],\n",
       "       [0., 0., 0., 0., 0., 0., 0., 1.],\n",
       "       [0., 0., 0., 0., 0., 0., 0., 1.],\n",
       "       [0., 1., 0., 0., 0., 0., 0., 0.],\n",
       "       [0., 1., 0., 0., 0., 0., 0., 0.],\n",
       "       [0., 1., 0., 0., 0., 0., 0., 0.]])"
      ]
     },
     "execution_count": 36,
     "metadata": {},
     "output_type": "execute_result"
    }
   ],
   "source": [
    "training_labels=to_categorical(training_labels)\n",
    "training_labels"
   ]
  },
  {
   "cell_type": "markdown",
   "metadata": {
    "id": "ag5o05eJlujN"
   },
   "source": [
    "Convert words to vectors"
   ]
  },
  {
   "cell_type": "code",
   "execution_count": 37,
   "metadata": {},
   "outputs": [],
   "source": [
    "# from tensorflow.keras.preprocessing.text import one_hot \n",
    "# sequnces=[one_hot(example,50,filters='') for example in training_example]\n",
    "# print(sequnces)"
   ]
  },
  {
   "cell_type": "code",
   "execution_count": 38,
   "metadata": {
    "colab": {
     "base_uri": "https://localhost:8080/"
    },
    "id": "S80n4A1_kHwt",
    "outputId": "ca477485-05e5-45eb-89ed-242a1b1ad872"
   },
   "outputs": [
    {
     "name": "stdout",
     "output_type": "stream",
     "text": [
      "[[23], [24], [11, 25, 26], [27], [28], [12, 8, 1], [3, 8, 1], [12, 1, 8], [3, 11, 13, 14], [3, 29, 2, 30, 1], [31, 13, 14], [32, 1, 4, 5], [33, 5, 6, 34, 15], [16, 1, 4], [3, 16, 1, 35, 17, 5], [2, 9, 6, 18], [2, 9, 6, 4], [18, 5, 15], [7, 19], [7, 10, 19], [2, 36, 37], [2, 20, 38], [2, 39, 6, 40, 41, 42], [2, 20, 43], [2, 9, 44], [7, 10, 21], [7, 10, 21, 45, 46, 47, 2, 48, 49], [22], [50, 1], [51, 52], [22, 17, 53, 4], [54], [55, 1, 56], [57]]\n"
     ]
    }
   ],
   "source": [
    "toknizer=Tokenizer(num_words=100)\n",
    "toknizer.fit_on_texts(training_example)\n",
    "sequnces=toknizer.texts_to_sequences(training_example)\n",
    "print(sequnces)"
   ]
  },
  {
   "cell_type": "code",
   "execution_count": 49,
   "metadata": {
    "colab": {
     "base_uri": "https://localhost:8080/"
    },
    "id": "NogQSSfzmBum",
    "outputId": "42b68e12-88de-4dfe-ab8f-51f56aba6d9d"
   },
   "outputs": [
    {
     "name": "stdout",
     "output_type": "stream",
     "text": [
      "[[23  0  0  0  0  0  0  0  0  0  0  0  0  0  0  0  0  0  0  0]\n",
      " [24  0  0  0  0  0  0  0  0  0  0  0  0  0  0  0  0  0  0  0]\n",
      " [11 25 26  0  0  0  0  0  0  0  0  0  0  0  0  0  0  0  0  0]\n",
      " [27  0  0  0  0  0  0  0  0  0  0  0  0  0  0  0  0  0  0  0]\n",
      " [28  0  0  0  0  0  0  0  0  0  0  0  0  0  0  0  0  0  0  0]\n",
      " [12  8  1  0  0  0  0  0  0  0  0  0  0  0  0  0  0  0  0  0]\n",
      " [ 3  8  1  0  0  0  0  0  0  0  0  0  0  0  0  0  0  0  0  0]\n",
      " [12  1  8  0  0  0  0  0  0  0  0  0  0  0  0  0  0  0  0  0]\n",
      " [ 3 11 13 14  0  0  0  0  0  0  0  0  0  0  0  0  0  0  0  0]\n",
      " [ 3 29  2 30  1  0  0  0  0  0  0  0  0  0  0  0  0  0  0  0]\n",
      " [31 13 14  0  0  0  0  0  0  0  0  0  0  0  0  0  0  0  0  0]\n",
      " [32  1  4  5  0  0  0  0  0  0  0  0  0  0  0  0  0  0  0  0]\n",
      " [33  5  6 34 15  0  0  0  0  0  0  0  0  0  0  0  0  0  0  0]\n",
      " [16  1  4  0  0  0  0  0  0  0  0  0  0  0  0  0  0  0  0  0]\n",
      " [ 3 16  1 35 17  5  0  0  0  0  0  0  0  0  0  0  0  0  0  0]\n",
      " [ 2  9  6 18  0  0  0  0  0  0  0  0  0  0  0  0  0  0  0  0]\n",
      " [ 2  9  6  4  0  0  0  0  0  0  0  0  0  0  0  0  0  0  0  0]\n",
      " [18  5 15  0  0  0  0  0  0  0  0  0  0  0  0  0  0  0  0  0]\n",
      " [ 7 19  0  0  0  0  0  0  0  0  0  0  0  0  0  0  0  0  0  0]\n",
      " [ 7 10 19  0  0  0  0  0  0  0  0  0  0  0  0  0  0  0  0  0]\n",
      " [ 2 36 37  0  0  0  0  0  0  0  0  0  0  0  0  0  0  0  0  0]\n",
      " [ 2 20 38  0  0  0  0  0  0  0  0  0  0  0  0  0  0  0  0  0]\n",
      " [ 2 39  6 40 41 42  0  0  0  0  0  0  0  0  0  0  0  0  0  0]\n",
      " [ 2 20 43  0  0  0  0  0  0  0  0  0  0  0  0  0  0  0  0  0]\n",
      " [ 2  9 44  0  0  0  0  0  0  0  0  0  0  0  0  0  0  0  0  0]\n",
      " [ 7 10 21  0  0  0  0  0  0  0  0  0  0  0  0  0  0  0  0  0]\n",
      " [ 7 10 21 45 46 47  2 48 49  0  0  0  0  0  0  0  0  0  0  0]\n",
      " [22  0  0  0  0  0  0  0  0  0  0  0  0  0  0  0  0  0  0  0]\n",
      " [50  1  0  0  0  0  0  0  0  0  0  0  0  0  0  0  0  0  0  0]\n",
      " [51 52  0  0  0  0  0  0  0  0  0  0  0  0  0  0  0  0  0  0]\n",
      " [22 17 53  4  0  0  0  0  0  0  0  0  0  0  0  0  0  0  0  0]\n",
      " [54  0  0  0  0  0  0  0  0  0  0  0  0  0  0  0  0  0  0  0]\n",
      " [55  1 56  0  0  0  0  0  0  0  0  0  0  0  0  0  0  0  0  0]\n",
      " [57  0  0  0  0  0  0  0  0  0  0  0  0  0  0  0  0  0  0  0]]\n"
     ]
    }
   ],
   "source": [
    "padded_sequence = pad_sequences(sequnces, maxlen=20, padding='post')\n",
    "print(padded_sequence)"
   ]
  },
  {
   "cell_type": "code",
   "execution_count": 54,
   "metadata": {
    "colab": {
     "base_uri": "https://localhost:8080/"
    },
    "id": "yq-wIrrnmLrm",
    "outputId": "ad307708-b848-4913-a8e1-43ce0d46a7e0"
   },
   "outputs": [
    {
     "data": {
      "text/html": [
       "<pre style=\"white-space:pre;overflow-x:auto;line-height:normal;font-family:Menlo,'DejaVu Sans Mono',consolas,'Courier New',monospace\"><span style=\"font-weight: bold\">Model: \"sequential_4\"</span>\n",
       "</pre>\n"
      ],
      "text/plain": [
       "\u001b[1mModel: \"sequential_4\"\u001b[0m\n"
      ]
     },
     "metadata": {},
     "output_type": "display_data"
    },
    {
     "data": {
      "text/html": [
       "<pre style=\"white-space:pre;overflow-x:auto;line-height:normal;font-family:Menlo,'DejaVu Sans Mono',consolas,'Courier New',monospace\">┏━━━━━━━━━━━━━━━━━━━━━━━━━━━━━━━━━┳━━━━━━━━━━━━━━━━━━━━━━━━┳━━━━━━━━━━━━━━━┓\n",
       "┃<span style=\"font-weight: bold\"> Layer (type)                    </span>┃<span style=\"font-weight: bold\"> Output Shape           </span>┃<span style=\"font-weight: bold\">       Param # </span>┃\n",
       "┡━━━━━━━━━━━━━━━━━━━━━━━━━━━━━━━━━╇━━━━━━━━━━━━━━━━━━━━━━━━╇━━━━━━━━━━━━━━━┩\n",
       "│ embedding_4 (<span style=\"color: #0087ff; text-decoration-color: #0087ff\">Embedding</span>)         │ ?                      │   <span style=\"color: #00af00; text-decoration-color: #00af00\">0</span> (unbuilt) │\n",
       "├─────────────────────────────────┼────────────────────────┼───────────────┤\n",
       "│ global_average_pooling1d_4      │ ?                      │             <span style=\"color: #00af00; text-decoration-color: #00af00\">0</span> │\n",
       "│ (<span style=\"color: #0087ff; text-decoration-color: #0087ff\">GlobalAveragePooling1D</span>)        │                        │               │\n",
       "├─────────────────────────────────┼────────────────────────┼───────────────┤\n",
       "│ dense_12 (<span style=\"color: #0087ff; text-decoration-color: #0087ff\">Dense</span>)                │ ?                      │   <span style=\"color: #00af00; text-decoration-color: #00af00\">0</span> (unbuilt) │\n",
       "├─────────────────────────────────┼────────────────────────┼───────────────┤\n",
       "│ dense_13 (<span style=\"color: #0087ff; text-decoration-color: #0087ff\">Dense</span>)                │ ?                      │   <span style=\"color: #00af00; text-decoration-color: #00af00\">0</span> (unbuilt) │\n",
       "├─────────────────────────────────┼────────────────────────┼───────────────┤\n",
       "│ dense_14 (<span style=\"color: #0087ff; text-decoration-color: #0087ff\">Dense</span>)                │ ?                      │   <span style=\"color: #00af00; text-decoration-color: #00af00\">0</span> (unbuilt) │\n",
       "└─────────────────────────────────┴────────────────────────┴───────────────┘\n",
       "</pre>\n"
      ],
      "text/plain": [
       "┏━━━━━━━━━━━━━━━━━━━━━━━━━━━━━━━━━┳━━━━━━━━━━━━━━━━━━━━━━━━┳━━━━━━━━━━━━━━━┓\n",
       "┃\u001b[1m \u001b[0m\u001b[1mLayer (type)                   \u001b[0m\u001b[1m \u001b[0m┃\u001b[1m \u001b[0m\u001b[1mOutput Shape          \u001b[0m\u001b[1m \u001b[0m┃\u001b[1m \u001b[0m\u001b[1m      Param #\u001b[0m\u001b[1m \u001b[0m┃\n",
       "┡━━━━━━━━━━━━━━━━━━━━━━━━━━━━━━━━━╇━━━━━━━━━━━━━━━━━━━━━━━━╇━━━━━━━━━━━━━━━┩\n",
       "│ embedding_4 (\u001b[38;5;33mEmbedding\u001b[0m)         │ ?                      │   \u001b[38;5;34m0\u001b[0m (unbuilt) │\n",
       "├─────────────────────────────────┼────────────────────────┼───────────────┤\n",
       "│ global_average_pooling1d_4      │ ?                      │             \u001b[38;5;34m0\u001b[0m │\n",
       "│ (\u001b[38;5;33mGlobalAveragePooling1D\u001b[0m)        │                        │               │\n",
       "├─────────────────────────────────┼────────────────────────┼───────────────┤\n",
       "│ dense_12 (\u001b[38;5;33mDense\u001b[0m)                │ ?                      │   \u001b[38;5;34m0\u001b[0m (unbuilt) │\n",
       "├─────────────────────────────────┼────────────────────────┼───────────────┤\n",
       "│ dense_13 (\u001b[38;5;33mDense\u001b[0m)                │ ?                      │   \u001b[38;5;34m0\u001b[0m (unbuilt) │\n",
       "├─────────────────────────────────┼────────────────────────┼───────────────┤\n",
       "│ dense_14 (\u001b[38;5;33mDense\u001b[0m)                │ ?                      │   \u001b[38;5;34m0\u001b[0m (unbuilt) │\n",
       "└─────────────────────────────────┴────────────────────────┴───────────────┘\n"
      ]
     },
     "metadata": {},
     "output_type": "display_data"
    },
    {
     "data": {
      "text/html": [
       "<pre style=\"white-space:pre;overflow-x:auto;line-height:normal;font-family:Menlo,'DejaVu Sans Mono',consolas,'Courier New',monospace\"><span style=\"font-weight: bold\"> Total params: </span><span style=\"color: #00af00; text-decoration-color: #00af00\">0</span> (0.00 B)\n",
       "</pre>\n"
      ],
      "text/plain": [
       "\u001b[1m Total params: \u001b[0m\u001b[38;5;34m0\u001b[0m (0.00 B)\n"
      ]
     },
     "metadata": {},
     "output_type": "display_data"
    },
    {
     "data": {
      "text/html": [
       "<pre style=\"white-space:pre;overflow-x:auto;line-height:normal;font-family:Menlo,'DejaVu Sans Mono',consolas,'Courier New',monospace\"><span style=\"font-weight: bold\"> Trainable params: </span><span style=\"color: #00af00; text-decoration-color: #00af00\">0</span> (0.00 B)\n",
       "</pre>\n"
      ],
      "text/plain": [
       "\u001b[1m Trainable params: \u001b[0m\u001b[38;5;34m0\u001b[0m (0.00 B)\n"
      ]
     },
     "metadata": {},
     "output_type": "display_data"
    },
    {
     "data": {
      "text/html": [
       "<pre style=\"white-space:pre;overflow-x:auto;line-height:normal;font-family:Menlo,'DejaVu Sans Mono',consolas,'Courier New',monospace\"><span style=\"font-weight: bold\"> Non-trainable params: </span><span style=\"color: #00af00; text-decoration-color: #00af00\">0</span> (0.00 B)\n",
       "</pre>\n"
      ],
      "text/plain": [
       "\u001b[1m Non-trainable params: \u001b[0m\u001b[38;5;34m0\u001b[0m (0.00 B)\n"
      ]
     },
     "metadata": {},
     "output_type": "display_data"
    }
   ],
   "source": [
    "from tensorflow.keras.models import Sequential\n",
    "from tensorflow.keras.layers import Dense ,LSTM,Embedding ,GlobalAveragePooling1D\n",
    "\n",
    "model=Sequential()\n",
    "model.add(Embedding(100,10))\n",
    "model.add(GlobalAveragePooling1D())\n",
    "model.add(Dense(10,activation='relu'))\n",
    "model.add(Dense(10,activation='relu'))\n",
    "model.add(Dense(8,activation='softmax'))\n",
    "\n",
    "\n",
    "model.compile(loss='categorical_crossentropy',optimizer='adam',metrics=['accuracy'])\n",
    "model.summary()"
   ]
  },
  {
   "cell_type": "code",
   "execution_count": 55,
   "metadata": {
    "colab": {
     "base_uri": "https://localhost:8080/"
    },
    "id": "Ilg4_fStqnCr",
    "outputId": "17136b75-0d7b-41f9-9332-d74032a275c5"
   },
   "outputs": [
    {
     "name": "stdout",
     "output_type": "stream",
     "text": [
      "(34, 20)\n",
      "(34, 8)\n"
     ]
    }
   ],
   "source": [
    "print(np.array(padded_sequence).shape)  # Shape of input data\n",
    "print(np.array(training_labels).shape)  # Shape of labels\n",
    "\n",
    "\n",
    "history=model.fit(np.array(padded_sequence),training_labels,epochs=1000, verbose=0)\n"
   ]
  },
  {
   "cell_type": "code",
   "execution_count": 56,
   "metadata": {
    "colab": {
     "base_uri": "https://localhost:8080/"
    },
    "id": "VXwyMxiGvVXU",
    "outputId": "3c7670bc-0e9d-4b0e-afdf-b10936c8942d"
   },
   "outputs": [
    {
     "name": "stdout",
     "output_type": "stream",
     "text": [
      "[[ 0  0  0  0  0  0  0  0  0  0  0  0  0  0  0  0  0  0  0 27]]\n",
      "\u001b[1m1/1\u001b[0m \u001b[32m━━━━━━━━━━━━━━━━━━━━\u001b[0m\u001b[37m\u001b[0m \u001b[1m0s\u001b[0m 176ms/step\n",
      "2\n",
      "['greeting']\n"
     ]
    }
   ],
   "source": [
    "inp='hello'\n",
    "sent=pad_sequences(toknizer.texts_to_sequences([inp]),maxlen=20)\n",
    "print(sent)\n",
    "result=np.argmax(model.predict(np.array(sent))) # 0-7 \n",
    "print(result)\n",
    "f_res=le.inverse_transform(np.array(result).reshape(1))\n",
    "print(f_res)"
   ]
  },
  {
   "cell_type": "markdown",
   "metadata": {},
   "source": [
    "## Save Model\n"
   ]
  },
  {
   "cell_type": "code",
   "execution_count": 57,
   "metadata": {},
   "outputs": [
    {
     "name": "stderr",
     "output_type": "stream",
     "text": [
      "WARNING:absl:You are saving your model as an HDF5 file via `model.save()` or `keras.saving.save_model(model)`. This file format is considered legacy. We recommend using instead the native Keras format, e.g. `model.save('my_model.keras')` or `keras.saving.save_model(model, 'my_model.keras')`. \n"
     ]
    }
   ],
   "source": [
    "model.save('model.h5')"
   ]
  },
  {
   "cell_type": "code",
   "execution_count": 58,
   "metadata": {},
   "outputs": [],
   "source": [
    "import pickle as pk \n",
    "#save tokinizer\n",
    "pk.dump(toknizer,open(\"toknizer.pkl\",\"wb\"))"
   ]
  },
  {
   "cell_type": "code",
   "execution_count": 59,
   "metadata": {},
   "outputs": [],
   "source": [
    "#save encoder\n",
    "pk.dump(le,open(\"label_encoder.pkl\",\"wb\"))"
   ]
  },
  {
   "cell_type": "code",
   "execution_count": 60,
   "metadata": {
    "id": "Nyz31ew_rtbK"
   },
   "outputs": [
    {
     "name": "stderr",
     "output_type": "stream",
     "text": [
      "WARNING:absl:Compiled the loaded model, but the compiled metrics have yet to be built. `model.compile_metrics` will be empty until you train or evaluate the model.\n"
     ]
    }
   ],
   "source": [
    "from tensorflow.keras.models import load_model\n",
    "model=load_model('model.h5') # load model "
   ]
  },
  {
   "cell_type": "code",
   "execution_count": 61,
   "metadata": {},
   "outputs": [],
   "source": [
    "with open(\"toknizer.pkl\", \"rb\") as file:\n",
    "    toknizer = pk.load(file)\n",
    "\n",
    "with open(\"label_encoder.pkl\", \"rb\") as file:\n",
    "    le = pk.load(file)"
   ]
  },
  {
   "cell_type": "markdown",
   "metadata": {
    "id": "k2YhYdDXrq9h"
   },
   "source": [
    "Interface"
   ]
  },
  {
   "cell_type": "code",
   "execution_count": 62,
   "metadata": {
    "id": "RIjWXav_q_13"
   },
   "outputs": [],
   "source": [
    "def user_chat():\n",
    "    while True :\n",
    "        print(\"User : \",end=\"\") \n",
    "        inp=input()\n",
    "        print(inp)\n",
    "\n",
    "        if inp.lower()=='quit':\n",
    "            break\n",
    "        \n",
    "        sent=pad_sequences(toknizer.texts_to_sequences([inp]),maxlen=20) #[] len=20\n",
    "\n",
    "        result=np.argmax(model.predict(np.array(sent),verbose=0)) # 0-7 \n",
    "        # 2 ,3 , 4\n",
    "        f_res=le.inverse_transform(np.array(result).reshape(1))\n",
    "\n",
    "\n",
    "        for label in data['intents']:\n",
    "\n",
    "            if label['tag']==f_res:\n",
    "\n",
    "                print('ChatBot : ',np.random.choice(label['responses']))\n",
    "        if f_res == 'salutaion':\n",
    "                break"
   ]
  },
  {
   "cell_type": "code",
   "execution_count": 1,
   "metadata": {
    "colab": {
     "base_uri": "https://localhost:8080/"
    },
    "id": "glDzWm4Qtsol",
    "outputId": "01930605-c52b-44ba-af3c-dcd5926161c2"
   },
   "outputs": [
    {
     "name": "stdout",
     "output_type": "stream",
     "text": [
      "Start Conversation with Chatbot\n"
     ]
    },
    {
     "ename": "NameError",
     "evalue": "name 'user_chat' is not defined",
     "output_type": "error",
     "traceback": [
      "\u001b[1;31m---------------------------------------------------------------------------\u001b[0m",
      "\u001b[1;31mNameError\u001b[0m                                 Traceback (most recent call last)",
      "Cell \u001b[1;32mIn[1], line 2\u001b[0m\n\u001b[0;32m      1\u001b[0m \u001b[38;5;28mprint\u001b[39m(\u001b[38;5;124m\"\u001b[39m\u001b[38;5;124mStart Conversation with Chatbot\u001b[39m\u001b[38;5;124m\"\u001b[39m)\n\u001b[1;32m----> 2\u001b[0m \u001b[43muser_chat\u001b[49m()\n",
      "\u001b[1;31mNameError\u001b[0m: name 'user_chat' is not defined"
     ]
    }
   ],
   "source": [
    "print(\"Start Conversation with Chatbot\")\n",
    "user_chat()"
   ]
  },
  {
   "cell_type": "code",
   "execution_count": null,
   "metadata": {
    "id": "qEJvo_PmtzPx"
   },
   "outputs": [],
   "source": []
  }
 ],
 "metadata": {
  "colab": {
   "provenance": []
  },
  "kernelspec": {
   "display_name": "Python 3",
   "language": "python",
   "name": "python3"
  },
  "language_info": {
   "codemirror_mode": {
    "name": "ipython",
    "version": 3
   },
   "file_extension": ".py",
   "mimetype": "text/x-python",
   "name": "python",
   "nbconvert_exporter": "python",
   "pygments_lexer": "ipython3",
   "version": "3.12.6"
  }
 },
 "nbformat": 4,
 "nbformat_minor": 4
}
